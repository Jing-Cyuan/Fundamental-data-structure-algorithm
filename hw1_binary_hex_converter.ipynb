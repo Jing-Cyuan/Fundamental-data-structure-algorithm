{
  "nbformat": 4,
  "nbformat_minor": 0,
  "metadata": {
    "colab": {
      "provenance": []
    },
    "kernelspec": {
      "name": "python3",
      "display_name": "Python 3"
    },
    "language_info": {
      "name": "python"
    }
  },
  "cells": [
    {
      "cell_type": "code",
      "execution_count": null,
      "metadata": {
        "id": "sVZ1dZe3zqeE"
      },
      "outputs": [],
      "source": [
        "# Function to convert decimal number\n",
        "# to binary using recursion\n",
        "def DecimalToBinary(num):\n",
        "\n",
        "\tif num >= 1:\n",
        "\t\tDecimalToBinary(num // 2)\n",
        "\tprint(num % 2, end = '')\n",
        "\n",
        "# Driver Code\n",
        "if __name__ == '__main__':\n",
        "\n",
        "\t# decimal value\n",
        "\tdec_val = 24\n",
        "\n",
        "\t# Calling function\n",
        "\tDecimalToBinary(dec_val)\n"
      ]
    },
    {
      "cell_type": "code",
      "source": [
        "\n",
        "# Conversion table of remainders to\n",
        "# hexadecimal equivalent\n",
        "conversion_table = {0: '0', 1: '1', 2: '2', 3: '3',\n",
        "                    4: '4', 5: '5', 6: '6', 7: '7',\n",
        "                    8: '8', 9: '9', 10: 'A', 11: 'B',\n",
        "                    12: 'C', 13: 'D', 14: 'E', 15: 'F'}\n",
        "\n",
        "\n",
        "# function which converts decimal value\n",
        "# to hexadecimal value\n",
        "def decimalToHexadecimal(decimal):\n",
        "    if(decimal <= 0):\n",
        "        return ''\n",
        "    remainder = decimal % 16\n",
        "    return decimalToHexadecimal(decimal//16) + conversion_table[remainder]\n",
        "\n",
        "\n",
        "decimal_number = 69\n",
        "print(\"The hexadecimal form of\", decimal_number,\n",
        "      \"is\", decimalToHexadecimal(decimal_number))"
      ],
      "metadata": {
        "id": "RvM3BaUn_C2p"
      },
      "execution_count": null,
      "outputs": []
    },
    {
      "cell_type": "code",
      "source": [
        "def DecimaltoBinary(num):\n",
        "\n",
        "\tif num >= 1:\n",
        "\t\tDecimaltoBinary(num // 2)\n",
        "\tprint(num % 2, end = '')\n",
        "\n",
        "conversion_table = {0: '0', 1: '1', 2: '2', 3: '3',\n",
        "            4: '4', 5: '5', 6: '6', 7: '7',\n",
        "            8: '8', 9: '9', 10: 'A', 11: 'B',\n",
        "            12: 'C', 13: 'D', 14: 'E', 15: 'F'}\n",
        "\n",
        "def DecimaltoHexadecimal(num):\n",
        "  if(num <= 0):\n",
        "    return ''\n",
        "  remainder = num % 16\n",
        "  DecimaltoHexadecimal(num//16)\n",
        "  print(conversion_table[remainder], end = '')\n",
        "\n",
        "decimal_value_hexa = decimal_value_binary = decimal_value = int(input(\"請輸入1個0到255的數字: \"))\n",
        "\n",
        "print(\"%d的十進位表示為：\" % (decimal_value), end = \"\")\n",
        "DecimaltoBinary(decimal_value_binary)\n",
        "\n",
        "print(\"\\n\", end = \"\")\n",
        "\n",
        "print(\"%d的十六進位表示為：\" % (decimal_value), end = \"\")\n",
        "DecimaltoHexadecimal(decimal_value)"
      ],
      "metadata": {
        "colab": {
          "base_uri": "https://localhost:8080/"
        },
        "id": "922j35Pf0K1p",
        "outputId": "bdccd4a5-c61b-40a7-de35-37e2efa429bf"
      },
      "execution_count": 22,
      "outputs": [
        {
          "output_type": "stream",
          "name": "stdout",
          "text": [
            "請輸入1個0到255的數字: 17\n",
            "17的十進位表示為：010001\n",
            "17的十六進位表示為：11"
          ]
        }
      ]
    }
  ]
}